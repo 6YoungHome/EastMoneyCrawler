{
 "cells": [
  {
   "cell_type": "code",
   "execution_count": 19,
   "metadata": {},
   "outputs": [],
   "source": [
    "from selenium import webdriver\n",
    "from selenium.webdriver.common.by import By\n",
    "import time\n",
    "import random\n",
    "import pandas as pd\n",
    "import os\n",
    "from selenium.webdriver.support.ui import WebDriverWait\n",
    "from selenium.webdriver.support import expected_conditions as EC\n",
    "from selenium.common.exceptions import TimeoutException\n",
    "\n",
    "from mongodb import MongoAPI\n",
    "from parser import PostParser # type: ignore\n",
    "from parser import CommentParser # type: ignore\n",
    "\n",
    "# from crawler import PostCrawler\n",
    "# from crawler import CommentCrawler\n",
    "import threading\n",
    "import time\n",
    "import datetime\n",
    "\n",
    "import json \n",
    "\n",
    "import  re"
   ]
  },
  {
   "cell_type": "code",
   "execution_count": 20,
   "metadata": {},
   "outputs": [
    {
     "data": {
      "text/plain": [
       "{'identifier': '2'}"
      ]
     },
     "execution_count": 20,
     "metadata": {},
     "output_type": "execute_result"
    }
   ],
   "source": [
    "options = webdriver.ChromeOptions()  # configure the webdriver\n",
    "options.add_argument('lang=zh_CN.UTF-8')\n",
    "options.add_argument('user-agent=\"Mozilla/5.0 (Windows NT 10.0; Win64; x64) AppleWebKit/537.36 (KHTML, '\n",
    "                        'like Gecko) Chrome/111.0.0.0 Safari/537.36\"')\n",
    "options.add_argument('headless')\n",
    "browser = webdriver.Chrome(options=options)\n",
    "\n",
    "with open('stealth.min.js') as f:\n",
    "    js = f.read()\n",
    "browser.execute_cdp_cmd(\"Page.addScriptToEvaluateOnNewDocument\", {\n",
    "    \"source\": js\n",
    "})"
   ]
  },
  {
   "cell_type": "code",
   "execution_count": 21,
   "metadata": {},
   "outputs": [],
   "source": [
    "current_page = 140\n",
    "stop_page = 140\n",
    "symbol = \"600388\""
   ]
  },
  {
   "cell_type": "code",
   "execution_count": 22,
   "metadata": {},
   "outputs": [],
   "source": [
    "\n",
    "\n",
    "parser = PostParser()\n",
    "\n",
    "dic_list = []\n",
    "while current_page <= stop_page:  # use 'while' instead of 'for' is crucial for exception handling\n",
    "    time.sleep(abs(random.normalvariate(0, 0.01)))  # random sleep time\n",
    "    # start = time.time()\n",
    "    url = f'http://guba.eastmoney.com/list,{symbol},f_{current_page}.html'\n",
    "    browser.get(url) \n",
    "    dic_list.extend(parser.parse_post(browser)) \n",
    "\n",
    "    current_page += 1\n",
    "        \n"
   ]
  },
  {
   "cell_type": "code",
   "execution_count": 25,
   "metadata": {},
   "outputs": [],
   "source": [
    "x = json.loads(browser.execute_script(\"return JSON.stringify(article_list)\"))"
   ]
  },
  {
   "cell_type": "code",
   "execution_count": 27,
   "metadata": {},
   "outputs": [
    {
     "data": {
      "text/plain": [
       "dict_keys(['re', 'count', 'bar_name', 'bar_code', 'bar_quot_code', 'ret_ad_type', 'bar_info', 'rc', 'me', 'time'])"
      ]
     },
     "execution_count": 27,
     "metadata": {},
     "output_type": "execute_result"
    }
   ],
   "source": [
    "x.keys()"
   ]
  },
  {
   "cell_type": "code",
   "execution_count": 29,
   "metadata": {},
   "outputs": [
    {
     "data": {
      "text/plain": [
       "('600388',\n",
       " {'OuterCode': '600388',\n",
       "  'InnerCode': '600388',\n",
       "  'ShortName': '龙净环保',\n",
       "  'Category': 100,\n",
       "  'Market': 100,\n",
       "  'Type': [100],\n",
       "  'Division': 1,\n",
       "  'CompanyCode': '',\n",
       "  'QuoteInnerCode': 36367427651013,\n",
       "  'QMarket': 1,\n",
       "  'QCode': '600388',\n",
       "  'Status': 10,\n",
       "  'CodeWithMarket': '600388.sh',\n",
       "  'MC': '600388.sh',\n",
       "  'ShowCode': '600388',\n",
       "  'AppCode': 'SH600388'})"
      ]
     },
     "execution_count": 29,
     "metadata": {},
     "output_type": "execute_result"
    }
   ],
   "source": [
    "x['bar_code'], x['bar_info']"
   ]
  },
  {
   "cell_type": "code",
   "execution_count": 47,
   "metadata": {},
   "outputs": [
    {
     "data": {
      "text/plain": [
       "'};    var other_list=undefined;var intelligenceList=[\"000158close\",\"601022close\"];</script><script t'"
      ]
     },
     "execution_count": 47,
     "metadata": {},
     "output_type": "execute_result"
    }
   ],
   "source": [
    "browser.page_source[225869: 302266+100][-100::]"
   ]
  },
  {
   "cell_type": "code",
   "execution_count": 16,
   "metadata": {},
   "outputs": [],
   "source": [
    "def extract_json(s):\n",
    "    start = browser.page_source.index(\"article_list\")\n",
    "    i = s[start::].index('{')\n",
    "    count = 1 #当前所在嵌套深度，即还没闭合的'{'个数\n",
    "    for j,c in enumerate(s[i+1:], start=i+1):\n",
    "        if c == '}':\n",
    "            count -= 1\n",
    "        elif c == '{':\n",
    "            count += 1\n",
    "        if count == 0:\n",
    "            break\n",
    "    assert(count == 0) #检查是否找到最后一个'}'\n",
    "    return s[i:j+1]"
   ]
  },
  {
   "cell_type": "code",
   "execution_count": 51,
   "metadata": {},
   "outputs": [],
   "source": [
    "\n",
    "x = "
   ]
  },
  {
   "cell_type": "code",
   "execution_count": 7,
   "metadata": {},
   "outputs": [
    {
     "ename": "NameError",
     "evalue": "name 'x' is not defined",
     "output_type": "error",
     "traceback": [
      "\u001b[1;31m---------------------------------------------------------------------------\u001b[0m",
      "\u001b[1;31mNameError\u001b[0m                                 Traceback (most recent call last)",
      "Cell \u001b[1;32mIn[7], line 1\u001b[0m\n\u001b[1;32m----> 1\u001b[0m \u001b[43mx\u001b[49m[\u001b[38;5;124m'\u001b[39m\u001b[38;5;124mre\u001b[39m\u001b[38;5;124m'\u001b[39m]\n",
      "\u001b[1;31mNameError\u001b[0m: name 'x' is not defined"
     ]
    }
   ],
   "source": [
    "x['re']"
   ]
  }
 ],
 "metadata": {
  "kernelspec": {
   "display_name": "Python 3",
   "language": "python",
   "name": "python3"
  },
  "language_info": {
   "codemirror_mode": {
    "name": "ipython",
    "version": 3
   },
   "file_extension": ".py",
   "mimetype": "text/x-python",
   "name": "python",
   "nbconvert_exporter": "python",
   "pygments_lexer": "ipython3",
   "version": "3.10.11"
  }
 },
 "nbformat": 4,
 "nbformat_minor": 2
}
